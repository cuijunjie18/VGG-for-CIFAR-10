{
 "cells": [
  {
   "cell_type": "code",
   "execution_count": 2,
   "id": "291a1818",
   "metadata": {},
   "outputs": [],
   "source": [
    "import os\n",
    "import torch\n",
    "import torchvision\n",
    "import torchinfo\n",
    "import pandas as pd\n",
    "from torch.utils import data\n",
    "from torch import nn\n",
    "import cv2\n",
    "from tqdm import tqdm\n",
    "import matplotlib.pyplot as plt\n",
    "import numpy as np\n",
    "from torch.nn import functional"
   ]
  },
  {
   "cell_type": "code",
   "execution_count": 3,
   "id": "a28f50bd",
   "metadata": {},
   "outputs": [],
   "source": [
    "def try_gpu(i=0): #@save\n",
    "    \"\"\"Return gpu(i) if exists, otherwise return cpu().\n",
    "    Defined in :numref:`sec_use_gpu`\"\"\"\n",
    "    if torch.cuda.device_count() >= i + 1:\n",
    "        return torch.device(f'cuda:{i}')\n",
    "    return torch.device('cpu')"
   ]
  },
  {
   "cell_type": "code",
   "execution_count": 4,
   "id": "c10c1a86",
   "metadata": {},
   "outputs": [
    {
     "name": "stdout",
     "output_type": "stream",
     "text": [
      "cuda:0\n"
     ]
    }
   ],
   "source": [
    "print(try_gpu())"
   ]
  },
  {
   "cell_type": "code",
   "execution_count": 5,
   "id": "1b10670d",
   "metadata": {},
   "outputs": [],
   "source": [
    "# 获取下标映射\n",
    "def get_map() -> dict:\n",
    "    object_map = {}\n",
    "    with open(\"object_map.txt\",\"r\",encoding = 'utf-8') as file:\n",
    "        for line in file:\n",
    "            name,idx = line.split()\n",
    "            object_map[name] = int(idx)\n",
    "    return object_map"
   ]
  },
  {
   "cell_type": "code",
   "execution_count": 6,
   "id": "a809bbf7",
   "metadata": {},
   "outputs": [
    {
     "name": "stdout",
     "output_type": "stream",
     "text": [
      "{'airplane': 0, 'automobile': 1, 'bird': 2, 'cat': 3, 'deer': 4, 'dog': 5, 'frog': 6, 'horse': 7, 'ship': 8, 'truck': 9}\n"
     ]
    }
   ],
   "source": [
    "object_map = get_map()\n",
    "print(object_map)"
   ]
  },
  {
   "cell_type": "code",
   "execution_count": 7,
   "id": "d4a0b1bc",
   "metadata": {},
   "outputs": [],
   "source": [
    "# 读取数据集即标签\n",
    "def load_data(data_path = 'train') -> tuple:\n",
    "    \"\"\"获取原始的img和对应的labels\"\"\"\n",
    "    train_nums = 50000\n",
    "    train_labels = pd.read_csv('trainLabels.csv')\n",
    "    mode = torchvision.io.image.ImageReadMode.RGB # 设置模型读入为RGB!!!\n",
    "    img_array = []\n",
    "    labels_array = []\n",
    "\n",
    "    object_map = get_map()\n",
    "    for i in range(train_nums):\n",
    "        labels_array.append(object_map[train_labels.iloc[i,1]])\n",
    "        img_array.append(torchvision.io.read_image(\n",
    "            os.path.join(data_path,str(i + 1) + '.png'),mode\n",
    "        ))\n",
    "    return img_array,labels_array # 返回的是list格式\n",
    "    \n",
    "img_array,labels_array = load_data()"
   ]
  },
  {
   "cell_type": "markdown",
   "id": "98e34b62",
   "metadata": {},
   "source": [
    "**第一种获得数据迭代器的方式**\n",
    "\n",
    "通过构造TensorDataset的方式，这个方式的缺点就是传入构造Dataset的数据需要是tensor格式，不够灵活，具体实现如下"
   ]
  },
  {
   "cell_type": "code",
   "execution_count": 8,
   "id": "7a2994a3",
   "metadata": {},
   "outputs": [],
   "source": [
    "# 构造为tensor\n",
    "labels_array = torch.tensor(labels_array)\n",
    "img_array = torch.stack(img_array,dim = 0)"
   ]
  },
  {
   "cell_type": "code",
   "execution_count": 9,
   "id": "e7ce4540",
   "metadata": {},
   "outputs": [
    {
     "name": "stdout",
     "output_type": "stream",
     "text": [
      "<class 'torch.Tensor'> torch.Size([50000, 3, 32, 32]) torch.uint8\n",
      "<class 'torch.Tensor'> torch.Size([50000]) torch.int64\n"
     ]
    }
   ],
   "source": [
    "print(type(img_array),img_array.shape,img_array.dtype)\n",
    "print(type(labels_array),labels_array.shape,labels_array.dtype)"
   ]
  },
  {
   "cell_type": "code",
   "execution_count": 10,
   "id": "3d53d460",
   "metadata": {},
   "outputs": [
    {
     "name": "stdout",
     "output_type": "stream",
     "text": [
      "<class 'torch.utils.data.dataloader.DataLoader'>\n",
      "torch.Size([64, 3, 32, 32]) torch.Size([64])\n"
     ]
    }
   ],
   "source": [
    "def make_data_iter(arrays,batch_size = 64) -> data.DataLoader:\n",
    "    \"\"\"获得数据迭代器\"\"\"\n",
    "    data_arrays = data.TensorDataset(*arrays) # 构造Dataset\n",
    "    return data.DataLoader(data_arrays,batch_size,shuffle = True) # 注意第一个参数不要给成了data_arrays\n",
    "\n",
    "train_iter = make_data_iter((img_array,labels_array))\n",
    "print(type(train_iter))\n",
    "for x,y in train_iter:\n",
    "    print(x.shape,y.shape)\n",
    "    break"
   ]
  },
  {
   "cell_type": "markdown",
   "id": "fbac4207",
   "metadata": {},
   "source": [
    "**第二种获得数据迭代器的方式**\n",
    "\n",
    "自定义自己的Dataset类，继承自data.Dataset，允许更加灵活的数据集格式"
   ]
  },
  {
   "cell_type": "code",
   "execution_count": 11,
   "id": "9245ec77",
   "metadata": {},
   "outputs": [],
   "source": [
    "class MyDataset(data.Dataset):\n",
    "    \"\"\"自定义的Dataset类，加载图片数据集\"\"\"\n",
    "    def __init__(self,features,labels):\n",
    "        self.transform = torchvision.transforms.Normalize(\n",
    "            mean = [0.485, 0.456, 0.406],\n",
    "            std  = [0.229, 0.224, 0.225]\n",
    "        ) # RGB格式的通道归一化参数\n",
    "        self.obj2idx = get_map()\n",
    "        self.idx2obj = [key for key in self.obj2idx.keys()]\n",
    "        self.obj_nums = len(self.idx2obj)\n",
    "        self.features = [self.normalize_img(feature) for feature in features]\n",
    "        # print(torch.tensor(labels).dtype)\n",
    "        self.labels = functional.one_hot(torch.tensor(labels),self.obj_nums).to(torch.float32)\n",
    "        print(f\"load {len(self.labels)} images!\")\n",
    "\n",
    "    def normalize_img(self,img):\n",
    "        \"\"\"图像归一化\"\"\"\n",
    "        return self.transform(img.float() / 255)\n",
    "    \n",
    "    def __getitem__(self, index):\n",
    "        \"\"\"定义数据迭代，即下标访问类\"\"\"\n",
    "        feature,label = self.features[index],self.labels[index]\n",
    "        return feature,label\n",
    "    \n",
    "    def __len__(self):\n",
    "        \"\"\"定义类的长度\"\"\"\n",
    "        return len(self.features)"
   ]
  },
  {
   "cell_type": "code",
   "execution_count": 12,
   "id": "a10c1487",
   "metadata": {},
   "outputs": [],
   "source": [
    "img_array,labels_array = load_data()"
   ]
  },
  {
   "cell_type": "code",
   "execution_count": 13,
   "id": "fb741a6a",
   "metadata": {},
   "outputs": [
    {
     "name": "stdout",
     "output_type": "stream",
     "text": [
      "load 50000 images!\n",
      "torch.Size([64, 3, 32, 32])\n",
      "torch.Size([64, 10])\n"
     ]
    }
   ],
   "source": [
    "batch_size = 64\n",
    "dataset = MyDataset(img_array,labels_array)\n",
    "train_iter = data.DataLoader(dataset,batch_size,shuffle = True)\n",
    "for X,Y in train_iter:\n",
    "    print(X.shape)\n",
    "    print(Y.shape)\n",
    "    break"
   ]
  },
  {
   "cell_type": "code",
   "execution_count": 14,
   "id": "b5dd9193",
   "metadata": {},
   "outputs": [
    {
     "name": "stdout",
     "output_type": "stream",
     "text": [
      "airplane\n"
     ]
    }
   ],
   "source": [
    "print(dataset.idx2obj[0])"
   ]
  },
  {
   "cell_type": "markdown",
   "id": "407e6611",
   "metadata": {},
   "source": [
    "**下面开始模型搭建及模型训练**"
   ]
  },
  {
   "cell_type": "markdown",
   "id": "c9750324",
   "metadata": {},
   "source": [
    "**尝试1：3层卷积网络**"
   ]
  },
  {
   "cell_type": "code",
   "execution_count": 15,
   "id": "177b2793",
   "metadata": {},
   "outputs": [],
   "source": [
    "# 定义网络\n",
    "net = nn.Sequential(\n",
    "    nn.Conv2d(3,10,17),\n",
    "    nn.ReLU(),\n",
    "    nn.Conv2d(10,10,9),\n",
    "    nn.ReLU(),\n",
    "    nn.Conv2d(10,10,5),\n",
    "    nn.ReLU(),\n",
    "    nn.Flatten(),\n",
    "    nn.Linear(160,10),\n",
    "    nn.Softmax(dim = 1)\n",
    ")\n",
    "\n",
    "# 定义损失函数\n",
    "loss_fn = nn.CrossEntropyLoss()\n",
    "\n",
    "# 定义超参数\n",
    "num_epochs = 30\n",
    "lr = 3e-5"
   ]
  },
  {
   "cell_type": "code",
   "execution_count": 16,
   "id": "52ebdcd0",
   "metadata": {},
   "outputs": [],
   "source": [
    "def train(net : nn.Sequential,train_iter,lr,num_epochs,loss_fn):\n",
    "    \"\"\"训练函数\"\"\"\n",
    "    # devices_nums = torch.cuda.device_count()\n",
    "    # devices = []\n",
    "    # for i in range(devices_nums):\n",
    "    #     devices.append(try_gpu(i = i))\n",
    "    device = try_gpu(i = 0)\n",
    "    net = net.to(device)\n",
    "    net.train()\n",
    "    optimzer = torch.optim.Adam(net.parameters(),lr = lr)\n",
    "    loss_plt = []\n",
    "    for epoch in range(num_epochs):\n",
    "        loss_temp = 0\n",
    "        total_nums = 0\n",
    "        loop = tqdm(enumerate(train_iter),total = len(train_iter))\n",
    "        for batch_idx,batch in loop:\n",
    "            X,Y = batch\n",
    "            X = X.to(device)\n",
    "            Y = Y.to(device)\n",
    "            total_nums += X.shape[0]\n",
    "\n",
    "            optimzer.zero_grad()\n",
    "            y_pred = net(X)\n",
    "            loss = loss_fn(y_pred,Y)\n",
    "            loss.sum().backward()\n",
    "            optimzer.step()\n",
    "\n",
    "            loss_temp += loss.sum().item()\n",
    "            loop.set_description(f'Epoch [{epoch}/{num_epochs}]')\n",
    "            loop.set_postfix({\"LOSS\" : loss_temp / total_nums})\n",
    "        loss_plt.append(loss_temp / total_nums)\n",
    "    return loss_plt\n",
    "        "
   ]
  },
  {
   "cell_type": "code",
   "execution_count": 17,
   "id": "5d202689",
   "metadata": {},
   "outputs": [
    {
     "name": "stderr",
     "output_type": "stream",
     "text": [
      "Epoch [0/30]: 100%|██████████| 782/782 [00:07<00:00, 98.17it/s, LOSS=0.0351] \n",
      "Epoch [1/30]: 100%|██████████| 782/782 [00:07<00:00, 111.63it/s, LOSS=0.034] \n",
      "Epoch [2/30]: 100%|██████████| 782/782 [00:07<00:00, 109.44it/s, LOSS=0.0336]\n",
      "Epoch [3/30]: 100%|██████████| 782/782 [00:07<00:00, 108.66it/s, LOSS=0.0334]\n",
      "Epoch [4/30]: 100%|██████████| 782/782 [00:07<00:00, 105.10it/s, LOSS=0.0333]\n",
      "Epoch [5/30]: 100%|██████████| 782/782 [00:07<00:00, 110.73it/s, LOSS=0.0331]\n",
      "Epoch [6/30]: 100%|██████████| 782/782 [00:07<00:00, 110.56it/s, LOSS=0.033]\n",
      "Epoch [7/30]: 100%|██████████| 782/782 [00:06<00:00, 117.59it/s, LOSS=0.0329]\n",
      "Epoch [8/30]: 100%|██████████| 782/782 [00:06<00:00, 116.59it/s, LOSS=0.0328]\n",
      "Epoch [9/30]: 100%|██████████| 782/782 [00:07<00:00, 107.21it/s, LOSS=0.0327]\n",
      "Epoch [10/30]: 100%|██████████| 782/782 [00:07<00:00, 111.29it/s, LOSS=0.0326]\n",
      "Epoch [11/30]: 100%|██████████| 782/782 [00:06<00:00, 117.25it/s, LOSS=0.0326]\n",
      "Epoch [12/30]: 100%|██████████| 782/782 [00:07<00:00, 101.65it/s, LOSS=0.0325]\n",
      "Epoch [13/30]: 100%|██████████| 782/782 [00:06<00:00, 115.37it/s, LOSS=0.0325]\n",
      "Epoch [14/30]: 100%|██████████| 782/782 [00:07<00:00, 108.01it/s, LOSS=0.0324]\n",
      "Epoch [15/30]: 100%|██████████| 782/782 [00:06<00:00, 117.90it/s, LOSS=0.0324]\n",
      "Epoch [16/30]: 100%|██████████| 782/782 [00:07<00:00, 108.77it/s, LOSS=0.0323]\n",
      "Epoch [17/30]: 100%|██████████| 782/782 [00:07<00:00, 107.71it/s, LOSS=0.0323]\n",
      "Epoch [18/30]: 100%|██████████| 782/782 [00:07<00:00, 110.40it/s, LOSS=0.0322]\n",
      "Epoch [19/30]: 100%|██████████| 782/782 [00:06<00:00, 113.72it/s, LOSS=0.0322]\n",
      "Epoch [20/30]: 100%|██████████| 782/782 [00:07<00:00, 109.76it/s, LOSS=0.0321]\n",
      "Epoch [21/30]: 100%|██████████| 782/782 [00:07<00:00, 109.45it/s, LOSS=0.0321]\n",
      "Epoch [22/30]: 100%|██████████| 782/782 [00:06<00:00, 117.60it/s, LOSS=0.0321]\n",
      "Epoch [23/30]: 100%|██████████| 782/782 [00:06<00:00, 117.65it/s, LOSS=0.032] \n",
      "Epoch [24/30]: 100%|██████████| 782/782 [00:07<00:00, 107.86it/s, LOSS=0.032]\n",
      "Epoch [25/30]: 100%|██████████| 782/782 [00:07<00:00, 109.12it/s, LOSS=0.032] \n",
      "Epoch [26/30]: 100%|██████████| 782/782 [00:07<00:00, 106.47it/s, LOSS=0.032] \n",
      "Epoch [27/30]: 100%|██████████| 782/782 [00:06<00:00, 112.92it/s, LOSS=0.0319]\n",
      "Epoch [28/30]: 100%|██████████| 782/782 [00:07<00:00, 110.13it/s, LOSS=0.0319]\n",
      "Epoch [29/30]: 100%|██████████| 782/782 [00:07<00:00, 109.60it/s, LOSS=0.0319]\n"
     ]
    }
   ],
   "source": [
    "loss_plt = train(net,train_iter,lr,num_epochs,loss_fn)"
   ]
  },
  {
   "cell_type": "code",
   "execution_count": 18,
   "id": "e9fe8fc8",
   "metadata": {},
   "outputs": [
    {
     "data": {
      "image/png": "[encoded data removed]",
      "text/plain": [
       "<Figure size 640x480 with 1 Axes>"
      ]
     },
     "metadata": {},
     "output_type": "display_data"
    }
   ],
   "source": [
    "plt.plot(np.arange(len(loss_plt)),loss_plt)\n",
    "plt.show()"
   ]
  },
  {
   "cell_type": "code",
   "execution_count": 19,
   "id": "0d1d6e27",
   "metadata": {},
   "outputs": [],
   "source": [
    "torch.save(net,\"models/3.pt\")"
   ]
  },
  {
   "cell_type": "code",
   "execution_count": 20,
   "id": "4f565c37",
   "metadata": {},
   "outputs": [
    {
     "data": {
      "text/plain": [
       "<function Tensor.unsqueeze>"
      ]
     },
     "execution_count": 20,
     "metadata": {},
     "output_type": "execute_result"
    }
   ],
   "source": [
    "kkkk = torch.tensor([1,2,3])\n",
    "kkkk.unsqueeze"
   ]
  },
  {
   "cell_type": "code",
   "execution_count": 21,
   "id": "4ca10397",
   "metadata": {},
   "outputs": [],
   "source": [
    "def normalize_img(img):\n",
    "    transform = torchvision.transforms.Normalize(\n",
    "            mean = [0.485, 0.456, 0.406],\n",
    "            std  = [0.229, 0.224, 0.225]\n",
    "        ) # RGB格式的通道归一化参数\n",
    "    return transform(img.float() / 255)\n",
    "\n",
    "def count_accurancy(net,train_iter):\n",
    "    device = try_gpu(i = 0)\n",
    "    net.eval()\n",
    "    net.to(device)\n",
    "    total_nums = 0\n",
    "    ans = 0\n",
    "    loop = tqdm(train_iter,total = len(train_iter),desc = \"Eval\")\n",
    "    for X,Y in loop:\n",
    "        total_nums += X.shape[0]\n",
    "        X = X.to(device)\n",
    "        Y = Y.to(device).argmax(dim = 1)\n",
    "        y_pred = net(X).argmax(dim = 1)\n",
    "        ans += (y_pred == Y).sum().item()\n",
    "    return ans / total_nums"
   ]
  },
  {
   "cell_type": "code",
   "execution_count": 23,
   "id": "4102ba64",
   "metadata": {},
   "outputs": [
    {
     "name": "stderr",
     "output_type": "stream",
     "text": [
      "Eval:   0%|          | 0/782 [00:00<?, ?it/s]"
     ]
    },
    {
     "name": "stderr",
     "output_type": "stream",
     "text": [
      "Eval: 100%|██████████| 782/782 [00:04<00:00, 176.98it/s]"
     ]
    },
    {
     "name": "stdout",
     "output_type": "stream",
     "text": [
      "acc in train dataset:0.4241\n"
     ]
    },
    {
     "name": "stderr",
     "output_type": "stream",
     "text": [
      "\n"
     ]
    }
   ],
   "source": [
    "net = torch.load('models/3.pt',weights_only = False)\n",
    "accurancy = count_accurancy(net,train_iter)\n",
    "print(f\"acc in train dataset:{accurancy}\")"
   ]
  },
  {
   "cell_type": "code",
   "execution_count": 25,
   "id": "2120ecfa",
   "metadata": {},
   "outputs": [],
   "source": [
    "def load_test(data_path = 'test'):\n",
    "    mode = torchvision.io.image.ImageReadMode.RGB # 设置模型读入为RGB!!!\n",
    "    test_arrays = []\n",
    "    test_nums = 300000\n",
    "    for i in range(test_nums):\n",
    "        test_arrays.append(torchvision.io.read_image(\n",
    "            os.path.join(data_path,str(i + 1) + '.png'),mode\n",
    "        ))\n",
    "    return test_arrays"
   ]
  },
  {
   "cell_type": "code",
   "execution_count": null,
   "id": "d55c7242",
   "metadata": {},
   "outputs": [],
   "source": [
    "class TestDataset(data.Dataset):\n",
    "    \"\"\"测试的自定义数据集，无labels\"\"\"\n",
    "    def __init__(self,features):\n",
    "        self.transform = torchvision.transforms.Normalize(\n",
    "            mean = [0.485, 0.456, 0.406],\n",
    "            std  = [0.229, 0.224, 0.225]\n",
    "        ) # RGB格式的通道归一化参数\n",
    "        self.features = [self.normalize_img(feature) for feature in features]\n",
    "        # print(torch.tensor(labels).dtype)\n",
    "        print(f\"load {len(self.features)} images!\")\n",
    "\n",
    "    def normalize_img(self,img):\n",
    "        \"\"\"图像归一化\"\"\"\n",
    "        return self.transform(img.float() / 255)\n",
    "    \n",
    "    def __getitem__(self, index):\n",
    "        \"\"\"定义数据迭代，即下标访问类\"\"\"\n",
    "        feature = self.features[index]\n",
    "        return feature\n",
    "    \n",
    "    def __len__(self):\n",
    "        \"\"\"定义类的长度\"\"\"\n",
    "        return len(self.features)\n",
    "        \n",
    "\n",
    "def predict(net,test_iter,idx2obj):\n",
    "    \"\"\"测试集上预测推理\"\"\"\n",
    "    device = try_gpu(i = 0)\n",
    "    net.eval()\n",
    "    net.to(device)\n",
    "    loop = tqdm(test_iter,desc = \"Predict\")\n",
    "    idx = 0\n",
    "    with open (\"result.txt\",\"w\",encoding = 'utf-8') as file:\n",
    "        for X in loop:\n",
    "            X = X.to(device)\n",
    "            pred = net(X).argmax(dim = 1)\n",
    "            for k in pred:\n",
    "                idx += 1\n",
    "                file.write(str(idx) + \",\" + idx2obj[k.item()] + \"\\n\")\n",
    "        "
   ]
  },
  {
   "cell_type": "code",
   "execution_count": 27,
   "id": "0ca14287",
   "metadata": {},
   "outputs": [],
   "source": [
    "test_arrays = load_test()"
   ]
  },
  {
   "cell_type": "code",
   "execution_count": 31,
   "id": "ddca1f12",
   "metadata": {},
   "outputs": [
    {
     "name": "stdout",
     "output_type": "stream",
     "text": [
      "load 300000 images!\n"
     ]
    }
   ],
   "source": [
    "test_dataset = TestDataset(test_arrays)"
   ]
  },
  {
   "cell_type": "code",
   "execution_count": 34,
   "id": "aaa7381d",
   "metadata": {},
   "outputs": [],
   "source": [
    "test_iter = data.DataLoader(test_dataset,batch_size = 64)"
   ]
  },
  {
   "cell_type": "code",
   "execution_count": 47,
   "id": "083d7f54",
   "metadata": {},
   "outputs": [
    {
     "name": "stderr",
     "output_type": "stream",
     "text": [
      "Predict: 100%|██████████| 4688/4688 [00:14<00:00, 321.73it/s]\n"
     ]
    }
   ],
   "source": [
    "predict(net,test_iter,dataset.idx2obj)"
   ]
  }
 ],
 "metadata": {
  "kernelspec": {
   "display_name": "QwenLM",
   "language": "python",
   "name": "python3"
  },
  "language_info": {
   "codemirror_mode": {
    "name": "ipython",
    "version": 3
   },
   "file_extension": ".py",
   "mimetype": "text/x-python",
   "name": "python",
   "nbconvert_exporter": "python",
   "pygments_lexer": "ipython3",
   "version": "3.10.16"
  }
 },
 "nbformat": 4,
 "nbformat_minor": 5
}
