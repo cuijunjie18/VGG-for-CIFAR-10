{
 "cells": [
  {
   "cell_type": "markdown",
   "id": "5134f799",
   "metadata": {},
   "source": [
    "**使用VGG模型进行图像分类**"
   ]
  },
  {
   "cell_type": "markdown",
   "id": "ef0d6ebe",
   "metadata": {},
   "source": [
    "**一、数据预处理**"
   ]
  },
  {
   "cell_type": "code",
   "execution_count": 1,
   "id": "118207a6",
   "metadata": {},
   "outputs": [],
   "source": [
    "from frame_special import *\n",
    "import numpy as np\n",
    "import torchinfo"
   ]
  },
  {
   "cell_type": "code",
   "execution_count": 2,
   "id": "3cd897c2",
   "metadata": {},
   "outputs": [
    {
     "name": "stderr",
     "output_type": "stream",
     "text": [
      "Load train data: 100%|██████████| 50000/50000 [00:06<00:00, 7353.66it/s]\n",
      "Load test data: 100%|██████████| 300000/300000 [00:30<00:00, 9990.34it/s] \n"
     ]
    }
   ],
   "source": [
    "# 加载原始数据\n",
    "train_arrays,train_labels = load_data()\n",
    "test_arrays = load_test()"
   ]
  },
  {
   "cell_type": "code",
   "execution_count": 3,
   "id": "1fc4af86",
   "metadata": {},
   "outputs": [
    {
     "name": "stdout",
     "output_type": "stream",
     "text": [
      "load 50000 images!\n"
     ]
    }
   ],
   "source": [
    "# 构造训练数据迭代器\n",
    "batch_size = 64\n",
    "train_dataset = TrainDataset(train_arrays,train_labels)\n",
    "train_iter = data.DataLoader(train_dataset,batch_size,shuffle = True)"
   ]
  },
  {
   "cell_type": "code",
   "execution_count": 4,
   "id": "0fd38549",
   "metadata": {},
   "outputs": [
    {
     "name": "stdout",
     "output_type": "stream",
     "text": [
      "load 300000 images!\n"
     ]
    }
   ],
   "source": [
    "# 构造测试数据迭代器\n",
    "test_dataset = TestDataset(test_arrays)\n",
    "test_iter = data.DataLoader(test_dataset,batch_size,shuffle = False)"
   ]
  },
  {
   "cell_type": "markdown",
   "id": "ed272bff",
   "metadata": {},
   "source": [
    "**二，VGG网络搭建**"
   ]
  },
  {
   "cell_type": "code",
   "execution_count": 5,
   "id": "903c37f5",
   "metadata": {},
   "outputs": [],
   "source": [
    "def vgg_block(num_convs,in_channels,out_channels) -> nn.Sequential:\n",
    "    \"\"\"单个vgg块的生成\"\"\"\n",
    "    layers = []\n",
    "    for _ in range(num_convs):\n",
    "        layers.append(nn.Conv2d(in_channels,out_channels,\n",
    "                                kernel_size = 3,padding = 1)) # 保持宽高\n",
    "        layers.append(nn.ReLU())\n",
    "        in_channels = out_channels\n",
    "    layers.append(nn.MaxPool2d(kernel_size = 2,stride = 2)) # 分辨率减半\n",
    "    return nn.Sequential(*layers)"
   ]
  },
  {
   "cell_type": "code",
   "execution_count": 6,
   "id": "832e1c87",
   "metadata": {},
   "outputs": [],
   "source": [
    "def vgg(conv_arch,in_H = 32,in_W = 32,class_nums = 10):\n",
    "    \"\"\"我的vgg网络，VGG-11加上一个softmax，处理分类问题\"\"\"\n",
    "    conv_blks = []\n",
    "    in_channels = 3     #初始为rgb三通道\n",
    "    for num_convs,out_channels in conv_arch:\n",
    "        conv_blks.append(vgg_block(num_convs,in_channels,out_channels))\n",
    "        in_channels = out_channels\n",
    "        in_H = int(in_H / 2)\n",
    "        in_W = int(in_W / 2)\n",
    "    return nn.Sequential(\n",
    "        *conv_blks,nn.Flatten(),\n",
    "        nn.Linear(out_channels * in_H * in_W,4096),nn.ReLU(),nn.Dropout(0.5),\n",
    "        nn.Linear(4096,4096),nn.ReLU(),nn.Dropout(0.5),\n",
    "        nn.Linear(4096,class_nums),nn.Softmax(dim = 1)\n",
    "                         )"
   ]
  },
  {
   "cell_type": "code",
   "execution_count": 7,
   "id": "7b2370e7",
   "metadata": {},
   "outputs": [],
   "source": [
    "conv_arch = ((1,64),(1,128),(2,256),(2,512),(2,512))\n",
    "object_map = get_map()\n",
    "net = vgg(conv_arch)"
   ]
  },
  {
   "cell_type": "code",
   "execution_count": 8,
   "id": "6605fd0f",
   "metadata": {},
   "outputs": [
    {
     "data": {
      "text/plain": [
       "==========================================================================================\n",
       "Layer (type:depth-idx)                   Output Shape              Param #\n",
       "==========================================================================================\n",
       "Sequential                               [1, 10]                   --\n",
       "├─Sequential: 1-1                        [1, 64, 16, 16]           --\n",
       "│    └─Conv2d: 2-1                       [1, 64, 32, 32]           1,792\n",
       "│    └─ReLU: 2-2                         [1, 64, 32, 32]           --\n",
       "│    └─MaxPool2d: 2-3                    [1, 64, 16, 16]           --\n",
       "├─Sequential: 1-2                        [1, 128, 8, 8]            --\n",
       "│    └─Conv2d: 2-4                       [1, 128, 16, 16]          73,856\n",
       "│    └─ReLU: 2-5                         [1, 128, 16, 16]          --\n",
       "│    └─MaxPool2d: 2-6                    [1, 128, 8, 8]            --\n",
       "├─Sequential: 1-3                        [1, 256, 4, 4]            --\n",
       "│    └─Conv2d: 2-7                       [1, 256, 8, 8]            295,168\n",
       "│    └─ReLU: 2-8                         [1, 256, 8, 8]            --\n",
       "│    └─Conv2d: 2-9                       [1, 256, 8, 8]            590,080\n",
       "│    └─ReLU: 2-10                        [1, 256, 8, 8]            --\n",
       "│    └─MaxPool2d: 2-11                   [1, 256, 4, 4]            --\n",
       "├─Sequential: 1-4                        [1, 512, 2, 2]            --\n",
       "│    └─Conv2d: 2-12                      [1, 512, 4, 4]            1,180,160\n",
       "│    └─ReLU: 2-13                        [1, 512, 4, 4]            --\n",
       "│    └─Conv2d: 2-14                      [1, 512, 4, 4]            2,359,808\n",
       "│    └─ReLU: 2-15                        [1, 512, 4, 4]            --\n",
       "│    └─MaxPool2d: 2-16                   [1, 512, 2, 2]            --\n",
       "├─Sequential: 1-5                        [1, 512, 1, 1]            --\n",
       "│    └─Conv2d: 2-17                      [1, 512, 2, 2]            2,359,808\n",
       "│    └─ReLU: 2-18                        [1, 512, 2, 2]            --\n",
       "│    └─Conv2d: 2-19                      [1, 512, 2, 2]            2,359,808\n",
       "│    └─ReLU: 2-20                        [1, 512, 2, 2]            --\n",
       "│    └─MaxPool2d: 2-21                   [1, 512, 1, 1]            --\n",
       "├─Flatten: 1-6                           [1, 512]                  --\n",
       "├─Linear: 1-7                            [1, 4096]                 2,101,248\n",
       "├─ReLU: 1-8                              [1, 4096]                 --\n",
       "├─Dropout: 1-9                           [1, 4096]                 --\n",
       "├─Linear: 1-10                           [1, 4096]                 16,781,312\n",
       "├─ReLU: 1-11                             [1, 4096]                 --\n",
       "├─Dropout: 1-12                          [1, 4096]                 --\n",
       "├─Linear: 1-13                           [1, 10]                   40,970\n",
       "├─Softmax: 1-14                          [1, 10]                   --\n",
       "==========================================================================================\n",
       "Total params: 28,144,010\n",
       "Trainable params: 28,144,010\n",
       "Non-trainable params: 0\n",
       "Total mult-adds (M): 171.84\n",
       "==========================================================================================\n",
       "Input size (MB): 0.01\n",
       "Forward/backward pass size (MB): 1.28\n",
       "Params size (MB): 112.58\n",
       "Estimated Total Size (MB): 113.87\n",
       "=========================================================================================="
      ]
     },
     "execution_count": 8,
     "metadata": {},
     "output_type": "execute_result"
    }
   ],
   "source": [
    "# 构造输入，测试模型\n",
    "input = torch.rand((1,3,32,32))\n",
    "torchinfo.summary(net,input.shape)"
   ]
  },
  {
   "cell_type": "markdown",
   "id": "a22b0f88",
   "metadata": {},
   "source": [
    "**三、模型训练**"
   ]
  },
  {
   "cell_type": "code",
   "execution_count": 9,
   "id": "810ea89d",
   "metadata": {},
   "outputs": [],
   "source": [
    "# 定义超参数\n",
    "num_epochs = 50\n",
    "lr = 3e-5\n",
    "\n",
    "# 损失函数\n",
    "loss_fn = nn.CrossEntropyLoss()"
   ]
  },
  {
   "cell_type": "code",
   "execution_count": 10,
   "id": "1bcfb8e0",
   "metadata": {},
   "outputs": [
    {
     "name": "stderr",
     "output_type": "stream",
     "text": [
      "Epoch [1/50]: 100%|██████████| 782/782 [00:13<00:00, 56.69it/s, LOSS=0.0346]\n",
      "Epoch [2/50]: 100%|██████████| 782/782 [00:14<00:00, 53.34it/s, LOSS=0.0329]\n",
      "Epoch [3/50]: 100%|██████████| 782/782 [00:14<00:00, 54.58it/s, LOSS=0.0322]\n",
      "Epoch [4/50]: 100%|██████████| 782/782 [00:14<00:00, 54.73it/s, LOSS=0.0317]\n",
      "Epoch [5/50]: 100%|██████████| 782/782 [00:14<00:00, 54.90it/s, LOSS=0.0313]\n",
      "Epoch [6/50]: 100%|██████████| 782/782 [00:14<00:00, 53.68it/s, LOSS=0.0309]\n",
      "Epoch [7/50]: 100%|██████████| 782/782 [00:14<00:00, 54.17it/s, LOSS=0.0305]\n",
      "Epoch [8/50]: 100%|██████████| 782/782 [00:14<00:00, 54.21it/s, LOSS=0.0302]\n",
      "Epoch [9/50]: 100%|██████████| 782/782 [00:14<00:00, 53.49it/s, LOSS=0.0298]\n",
      "Epoch [10/50]: 100%|██████████| 782/782 [00:14<00:00, 53.84it/s, LOSS=0.0296]\n",
      "Epoch [11/50]: 100%|██████████| 782/782 [00:14<00:00, 55.14it/s, LOSS=0.0293]\n",
      "Epoch [12/50]: 100%|██████████| 782/782 [00:14<00:00, 54.73it/s, LOSS=0.029] \n",
      "Epoch [13/50]: 100%|██████████| 782/782 [00:14<00:00, 54.78it/s, LOSS=0.0287]\n",
      "Epoch [14/50]: 100%|██████████| 782/782 [00:14<00:00, 55.35it/s, LOSS=0.0285]\n",
      "Epoch [15/50]: 100%|██████████| 782/782 [00:14<00:00, 54.56it/s, LOSS=0.0283]\n",
      "Epoch [16/50]: 100%|██████████| 782/782 [00:14<00:00, 53.99it/s, LOSS=0.0281]\n",
      "Epoch [17/50]: 100%|██████████| 782/782 [00:14<00:00, 53.86it/s, LOSS=0.0279]\n",
      "Epoch [18/50]: 100%|██████████| 782/782 [00:14<00:00, 54.75it/s, LOSS=0.0277]\n",
      "Epoch [19/50]: 100%|██████████| 782/782 [00:14<00:00, 53.29it/s, LOSS=0.0275]\n",
      "Epoch [20/50]: 100%|██████████| 782/782 [00:14<00:00, 53.91it/s, LOSS=0.0274]\n",
      "Epoch [21/50]: 100%|██████████| 782/782 [00:14<00:00, 53.69it/s, LOSS=0.0271]\n",
      "Epoch [22/50]: 100%|██████████| 782/782 [00:14<00:00, 52.56it/s, LOSS=0.027] \n",
      "Epoch [23/50]: 100%|██████████| 782/782 [00:14<00:00, 54.92it/s, LOSS=0.0268]\n",
      "Epoch [24/50]: 100%|██████████| 782/782 [00:14<00:00, 53.04it/s, LOSS=0.0267]\n",
      "Epoch [25/50]: 100%|██████████| 782/782 [00:14<00:00, 53.55it/s, LOSS=0.0265]\n",
      "Epoch [26/50]: 100%|██████████| 782/782 [00:14<00:00, 54.98it/s, LOSS=0.0264]\n",
      "Epoch [27/50]: 100%|██████████| 782/782 [00:14<00:00, 52.81it/s, LOSS=0.0262]\n",
      "Epoch [28/50]: 100%|██████████| 782/782 [00:14<00:00, 52.84it/s, LOSS=0.0261]\n",
      "Epoch [29/50]: 100%|██████████| 782/782 [00:14<00:00, 54.10it/s, LOSS=0.026] \n",
      "Epoch [30/50]: 100%|██████████| 782/782 [00:14<00:00, 54.03it/s, LOSS=0.0259]\n",
      "Epoch [31/50]: 100%|██████████| 782/782 [00:14<00:00, 53.42it/s, LOSS=0.0257]\n",
      "Epoch [32/50]: 100%|██████████| 782/782 [00:14<00:00, 53.40it/s, LOSS=0.0257]\n",
      "Epoch [33/50]: 100%|██████████| 782/782 [00:14<00:00, 54.40it/s, LOSS=0.0256]\n",
      "Epoch [34/50]: 100%|██████████| 782/782 [00:14<00:00, 54.27it/s, LOSS=0.0255]\n",
      "Epoch [35/50]: 100%|██████████| 782/782 [00:14<00:00, 54.89it/s, LOSS=0.0255]\n",
      "Epoch [36/50]: 100%|██████████| 782/782 [00:14<00:00, 54.52it/s, LOSS=0.0253]\n",
      "Epoch [37/50]: 100%|██████████| 782/782 [00:14<00:00, 53.84it/s, LOSS=0.0253]\n",
      "Epoch [38/50]: 100%|██████████| 782/782 [00:14<00:00, 55.34it/s, LOSS=0.0253]\n",
      "Epoch [39/50]: 100%|██████████| 782/782 [00:14<00:00, 54.79it/s, LOSS=0.0251]\n",
      "Epoch [40/50]: 100%|██████████| 782/782 [00:14<00:00, 54.08it/s, LOSS=0.0251]\n",
      "Epoch [41/50]: 100%|██████████| 782/782 [00:14<00:00, 54.53it/s, LOSS=0.0251]\n",
      "Epoch [42/50]: 100%|██████████| 782/782 [00:14<00:00, 53.30it/s, LOSS=0.0249]\n",
      "Epoch [43/50]: 100%|██████████| 782/782 [00:14<00:00, 54.23it/s, LOSS=0.0249]\n",
      "Epoch [44/50]: 100%|██████████| 782/782 [00:14<00:00, 53.99it/s, LOSS=0.0249]\n",
      "Epoch [45/50]: 100%|██████████| 782/782 [00:14<00:00, 53.80it/s, LOSS=0.0248]\n",
      "Epoch [46/50]: 100%|██████████| 782/782 [00:14<00:00, 53.95it/s, LOSS=0.0248]\n",
      "Epoch [47/50]: 100%|██████████| 782/782 [00:14<00:00, 54.34it/s, LOSS=0.0248]\n",
      "Epoch [48/50]: 100%|██████████| 782/782 [00:14<00:00, 54.08it/s, LOSS=0.0247]\n",
      "Epoch [49/50]: 100%|██████████| 782/782 [00:14<00:00, 53.70it/s, LOSS=0.0247]\n",
      "Epoch [50/50]: 100%|██████████| 782/782 [00:14<00:00, 53.98it/s, LOSS=0.0247]\n"
     ]
    }
   ],
   "source": [
    "\n",
    "loss_plt = train(net,train_iter,lr,num_epochs,loss_fn)"
   ]
  },
  {
   "cell_type": "code",
   "execution_count": 11,
   "id": "e928cc97",
   "metadata": {},
   "outputs": [
    {
     "data": {
      "image/png": "[encoded data removed]",
      "text/plain": [
       "<Figure size 640x480 with 1 Axes>"
      ]
     },
     "metadata": {},
     "output_type": "display_data"
    }
   ],
   "source": [
    "# 训练损失展示\n",
    "import matplotlib.pyplot as plt\n",
    "plt.plot(np.arange(len(loss_plt)),loss_plt)\n",
    "plt.show()"
   ]
  },
  {
   "cell_type": "code",
   "execution_count": 12,
   "id": "88a5838a",
   "metadata": {},
   "outputs": [
    {
     "name": "stdout",
     "output_type": "stream",
     "text": [
      "model save successfully!\n"
     ]
    }
   ],
   "source": [
    "# 保存模型\n",
    "torch.save(net,\"models/vgg11-2.pt\")\n",
    "print(f\"model save successfully!\")"
   ]
  },
  {
   "cell_type": "markdown",
   "id": "fdc226df",
   "metadata": {},
   "source": [
    "**四、模型评估**"
   ]
  },
  {
   "cell_type": "code",
   "execution_count": 13,
   "id": "5c3a9553",
   "metadata": {},
   "outputs": [],
   "source": [
    "def count_accurancy(net,train_iter):\n",
    "    \"\"\"训练集上准确率测试\"\"\"\n",
    "    device = try_gpu(i = 0)\n",
    "    net.eval()\n",
    "    net.to(device)\n",
    "    total_nums = 0\n",
    "    ans = 0\n",
    "    loop = tqdm(train_iter,total = len(train_iter),desc = \"Eval\")\n",
    "    for X,Y in loop:\n",
    "        total_nums += X.shape[0]\n",
    "        X = X.to(device)\n",
    "        Y = Y.to(device).argmax(dim = 1)\n",
    "        # print(X.shape,Y.shape)\n",
    "        y_pred = net(X).argmax(dim = 1)\n",
    "        # print(y_pred.shape)\n",
    "        ans += (y_pred == Y).sum().item()\n",
    "    return ans / total_nums"
   ]
  },
  {
   "cell_type": "code",
   "execution_count": 14,
   "id": "a71ae4d5",
   "metadata": {},
   "outputs": [
    {
     "name": "stderr",
     "output_type": "stream",
     "text": [
      "Eval: 100%|██████████| 782/782 [00:05<00:00, 142.56it/s]"
     ]
    },
    {
     "name": "stdout",
     "output_type": "stream",
     "text": [
      "0.89026\n"
     ]
    },
    {
     "name": "stderr",
     "output_type": "stream",
     "text": [
      "\n"
     ]
    }
   ],
   "source": [
    "net = torch.load(\"models/vgg11-2.pt\",weights_only = False)\n",
    "acc = count_accurancy(net,train_iter)\n",
    "print(acc)"
   ]
  },
  {
   "cell_type": "code",
   "execution_count": 15,
   "id": "f7500853",
   "metadata": {},
   "outputs": [
    {
     "name": "stderr",
     "output_type": "stream",
     "text": [
      "Predict: 100%|██████████| 4688/4688 [00:18<00:00, 247.52it/s]\n"
     ]
    }
   ],
   "source": [
    "# 在验证集上测试\n",
    "predict(net,test_iter,train_dataset.idx2obj)"
   ]
  }
 ],
 "metadata": {
  "kernelspec": {
   "display_name": "QwenLM",
   "language": "python",
   "name": "python3"
  },
  "language_info": {
   "codemirror_mode": {
    "name": "ipython",
    "version": 3
   },
   "file_extension": ".py",
   "mimetype": "text/x-python",
   "name": "python",
   "nbconvert_exporter": "python",
   "pygments_lexer": "ipython3",
   "version": "3.10.16"
  }
 },
 "nbformat": 4,
 "nbformat_minor": 5
}
