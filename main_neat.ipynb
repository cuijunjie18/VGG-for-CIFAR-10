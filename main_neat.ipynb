{
 "cells": [
  {
   "cell_type": "code",
   "execution_count": 17,
   "id": "cd91e684",
   "metadata": {},
   "outputs": [],
   "source": [
    "from frame_special import *"
   ]
  },
  {
   "cell_type": "code",
   "execution_count": 18,
   "id": "0a4134f3",
   "metadata": {},
   "outputs": [
    {
     "name": "stderr",
     "output_type": "stream",
     "text": [
      "Load train data: 100%|██████████| 50000/50000 [00:07<00:00, 7079.85it/s]\n",
      "Load test data: 100%|██████████| 300000/300000 [00:26<00:00, 11397.61it/s]\n"
     ]
    }
   ],
   "source": [
    "# 加载原始数据\n",
    "train_arrays,train_labels = load_data()\n",
    "test_arrays = load_test()"
   ]
  },
  {
   "cell_type": "code",
   "execution_count": 20,
   "id": "595160e1",
   "metadata": {},
   "outputs": [
    {
     "name": "stdout",
     "output_type": "stream",
     "text": [
      "load 50000 images!\n"
     ]
    }
   ],
   "source": [
    "# 构造训练数据迭代器\n",
    "batch_size = 64\n",
    "train_dataset = TrainDataset(train_arrays,train_labels)\n",
    "train_iter = data.DataLoader(train_dataset,batch_size,shuffle = True)"
   ]
  },
  {
   "cell_type": "code",
   "execution_count": 21,
   "id": "dc8ec80a",
   "metadata": {},
   "outputs": [
    {
     "name": "stdout",
     "output_type": "stream",
     "text": [
      "load 300000 images!\n"
     ]
    }
   ],
   "source": [
    "# 构造测试数据迭代器\n",
    "test_dataset = TestDataset(test_arrays)\n",
    "test_iter = data.DataLoader(test_dataset,batch_size,shuffle = False)"
   ]
  },
  {
   "cell_type": "code",
   "execution_count": 22,
   "id": "1dd934fb",
   "metadata": {},
   "outputs": [],
   "source": [
    "# 定义网络\n",
    "net = nn.Sequential(\n",
    "    nn.Conv2d(3,10,17),\n",
    "    nn.ReLU(),\n",
    "    nn.Conv2d(10,10,9),\n",
    "    nn.ReLU(),\n",
    "    nn.Conv2d(10,10,5),\n",
    "    nn.ReLU(),\n",
    "    nn.Flatten(),\n",
    "    nn.Linear(160,10),\n",
    "    nn.Softmax(dim = 1)\n",
    ")\n",
    "\n",
    "# 定义损失函数\n",
    "loss_fn = nn.CrossEntropyLoss()\n",
    "\n",
    "# 定义超参数\n",
    "num_epochs = 30\n",
    "lr = 3e-5"
   ]
  },
  {
   "cell_type": "code",
   "execution_count": 23,
   "id": "ae892a5b",
   "metadata": {},
   "outputs": [
    {
     "name": "stderr",
     "output_type": "stream",
     "text": [
      "Epoch [1/30]: 100%|██████████| 782/782 [00:07<00:00, 105.03it/s, LOSS=0.035] \n",
      "Epoch [2/30]: 100%|██████████| 782/782 [00:07<00:00, 110.47it/s, LOSS=0.034] \n",
      "Epoch [3/30]: 100%|██████████| 782/782 [00:06<00:00, 114.05it/s, LOSS=0.0338]\n",
      "Epoch [4/30]: 100%|██████████| 782/782 [00:07<00:00, 102.78it/s, LOSS=0.0336]\n",
      "Epoch [5/30]: 100%|██████████| 782/782 [00:07<00:00, 103.14it/s, LOSS=0.0335]\n",
      "Epoch [6/30]: 100%|██████████| 782/782 [00:07<00:00, 102.18it/s, LOSS=0.0334]\n",
      "Epoch [7/30]: 100%|██████████| 782/782 [00:07<00:00, 104.79it/s, LOSS=0.0332]\n",
      "Epoch [8/30]: 100%|██████████| 782/782 [00:06<00:00, 114.92it/s, LOSS=0.0331]\n",
      "Epoch [9/30]: 100%|██████████| 782/782 [00:06<00:00, 116.87it/s, LOSS=0.033] \n",
      "Epoch [10/30]: 100%|██████████| 782/782 [00:07<00:00, 106.70it/s, LOSS=0.033] \n",
      "Epoch [11/30]: 100%|██████████| 782/782 [00:07<00:00, 106.89it/s, LOSS=0.0329]\n",
      "Epoch [12/30]: 100%|██████████| 782/782 [00:07<00:00, 107.84it/s, LOSS=0.0328]\n",
      "Epoch [13/30]: 100%|██████████| 782/782 [00:07<00:00, 109.41it/s, LOSS=0.0328]\n",
      "Epoch [14/30]: 100%|██████████| 782/782 [00:07<00:00, 111.49it/s, LOSS=0.0327]\n",
      "Epoch [15/30]: 100%|██████████| 782/782 [00:07<00:00, 102.38it/s, LOSS=0.0327]\n",
      "Epoch [16/30]: 100%|██████████| 782/782 [00:07<00:00, 110.47it/s, LOSS=0.0326]\n",
      "Epoch [17/30]: 100%|██████████| 782/782 [00:07<00:00, 110.73it/s, LOSS=0.0326]\n",
      "Epoch [18/30]: 100%|██████████| 782/782 [00:06<00:00, 119.12it/s, LOSS=0.0326]\n",
      "Epoch [19/30]: 100%|██████████| 782/782 [00:06<00:00, 115.34it/s, LOSS=0.0325]\n",
      "Epoch [20/30]: 100%|██████████| 782/782 [00:06<00:00, 112.47it/s, LOSS=0.0325]\n",
      "Epoch [21/30]: 100%|██████████| 782/782 [00:06<00:00, 112.71it/s, LOSS=0.0325]\n",
      "Epoch [22/30]: 100%|██████████| 782/782 [00:07<00:00, 103.77it/s, LOSS=0.0324]\n",
      "Epoch [23/30]: 100%|██████████| 782/782 [00:07<00:00, 99.83it/s, LOSS=0.0324] \n",
      "Epoch [24/30]: 100%|██████████| 782/782 [00:07<00:00, 103.26it/s, LOSS=0.0324]\n",
      "Epoch [25/30]: 100%|██████████| 782/782 [00:07<00:00, 102.28it/s, LOSS=0.0323]\n",
      "Epoch [26/30]: 100%|██████████| 782/782 [00:07<00:00, 101.70it/s, LOSS=0.0323]\n",
      "Epoch [27/30]: 100%|██████████| 782/782 [00:06<00:00, 112.51it/s, LOSS=0.0323]\n",
      "Epoch [28/30]: 100%|██████████| 782/782 [00:07<00:00, 106.49it/s, LOSS=0.0323]\n",
      "Epoch [29/30]: 100%|██████████| 782/782 [00:07<00:00, 106.99it/s, LOSS=0.0322]\n",
      "Epoch [30/30]: 100%|██████████| 782/782 [00:07<00:00, 108.03it/s, LOSS=0.0322]\n"
     ]
    }
   ],
   "source": [
    "loss_plt = train(net,train_iter,lr,num_epochs,loss_fn)"
   ]
  },
  {
   "cell_type": "code",
   "execution_count": 24,
   "id": "8294b545",
   "metadata": {},
   "outputs": [
    {
     "data": {
      "image/png": "[encoded data removed]",
      "text/plain": [
       "<Figure size 640x480 with 1 Axes>"
      ]
     },
     "metadata": {},
     "output_type": "display_data"
    }
   ],
   "source": [
    "import matplotlib.pyplot as plt\n",
    "import numpy as np\n",
    "plt.plot(np.arange(len(loss_plt)),loss_plt)\n",
    "plt.show()"
   ]
  },
  {
   "cell_type": "code",
   "execution_count": 25,
   "id": "84d9be2b",
   "metadata": {},
   "outputs": [
    {
     "name": "stdout",
     "output_type": "stream",
     "text": [
      "model save successfully!\n"
     ]
    }
   ],
   "source": [
    "torch.save(net,\"models/temp.pt\")\n",
    "print(\"model save successfully!\")"
   ]
  },
  {
   "cell_type": "code",
   "execution_count": null,
   "id": "b329ef51",
   "metadata": {},
   "outputs": [
    {
     "name": "stderr",
     "output_type": "stream",
     "text": [
      "Eval:   0%|          | 0/782 [00:00<?, ?it/s]"
     ]
    },
    {
     "name": "stderr",
     "output_type": "stream",
     "text": [
      "Eval: 100%|██████████| 782/782 [00:04<00:00, 161.39it/s]"
     ]
    },
    {
     "name": "stdout",
     "output_type": "stream",
     "text": [
      "acc in train dataset:0.4241\n"
     ]
    },
    {
     "name": "stderr",
     "output_type": "stream",
     "text": [
      "\n"
     ]
    }
   ],
   "source": [
    "net = torch.load('models/temp.pt',weights_only = False)\n",
    "accurancy = count_accurancy(net,train_iter)\n",
    "print(f\"acc in train dataset:{accurancy}\")"
   ]
  }
 ],
 "metadata": {
  "kernelspec": {
   "display_name": "QwenLM",
   "language": "python",
   "name": "python3"
  },
  "language_info": {
   "codemirror_mode": {
    "name": "ipython",
    "version": 3
   },
   "file_extension": ".py",
   "mimetype": "text/x-python",
   "name": "python",
   "nbconvert_exporter": "python",
   "pygments_lexer": "ipython3",
   "version": "3.10.16"
  }
 },
 "nbformat": 4,
 "nbformat_minor": 5
}
